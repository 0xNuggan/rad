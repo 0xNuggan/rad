{
 "cells": [
  {
   "cell_type": "code",
   "execution_count": null,
   "id": "10dc3c7c",
   "metadata": {
    "tags": [
     "parameters"
    ]
   },
   "outputs": [],
   "source": [
    "params = {\n",
    "    \"input_files\": {\n",
    "        \"sourcecred_data\": \"sourcecred.csv\"\n",
    "    },\n",
    "    \"total_tokens_allocated\": 1000,\n",
    "      \"payout_token\": {\n",
    "        \"token_name\": \"wxDAI\",\n",
    "        \"token_address\": \"0xe91D153E0b41518A2Ce8Dd3D7944Fa863463a97d\"\n",
    "      },\n",
    "\n",
    "}"
   ]
  },
  {
   "cell_type": "code",
   "execution_count": null,
   "id": "24dfeb3f",
   "metadata": {},
   "outputs": [],
   "source": [
    "import os\n",
    "import sys\n",
    "\n",
    "import math\n",
    "import pandas as pd \n",
    "import numpy as np \n",
    "\n",
    "import scrapbook as sb"
   ]
  },
  {
   "cell_type": "code",
   "execution_count": null,
   "id": "d40fa112",
   "metadata": {},
   "outputs": [],
   "source": [
    "SOURCECRED_DATA_PATH = input_files[\"sourcecred_data\"]\n",
    "NUMBER_OF_SOURCECRED_REWARD_TOKENS_TO_DISTRIBUTE = float(total_tokens_allocated)\n",
    "\n",
    "sourcecred_data = pd.read_csv(SOURCECRED_DATA_PATH)\n",
    "totalGrainPoints = sourcecred_data['vested_amount'].sum()\n",
    "\n"
   ]
  },
  {
   "cell_type": "code",
   "execution_count": 1,
   "id": "cab3c117",
   "metadata": {},
   "outputs": [
    {
     "ename": "NameError",
     "evalue": "name 'sourcecred' is not defined",
     "output_type": "error",
     "traceback": [
      "\u001b[0;31m---------------------------------------------------------------------------\u001b[0m",
      "\u001b[0;31mNameError\u001b[0m                                 Traceback (most recent call last)",
      "Input \u001b[0;32mIn [1]\u001b[0m, in \u001b[0;36m<cell line: 1>\u001b[0;34m()\u001b[0m\n\u001b[0;32m----> 1\u001b[0m sourcecred_data[\u001b[38;5;124m'\u001b[39m\u001b[38;5;124mFINAL REWARD\u001b[39m\u001b[38;5;124m'\u001b[39m] \u001b[38;5;241m=\u001b[39m \u001b[43msourcecred\u001b[49m\n",
      "\u001b[0;31mNameError\u001b[0m: name 'sourcecred' is not defined"
     ]
    }
   ],
   "source": [
    "#Since we ended up using sourcecred differently, this notebook does basically nothing\n",
    "\n",
    "#luckily, grain already adds up to 100\n",
    "#sourcecred_data['PERCENTAGE'] = sourcecred_data['totalGrainPaid']/totalGrainPoints\n",
    "#sourcecred_data['TOKEN TO RECEIVE'] = sourcecred_data['PERCENTAGE'] * NUMBER_OF_SOURCECRED_REWARD_TOKENS_TO_DISTRIBUTE\n"
   ]
  },
  {
   "cell_type": "code",
   "execution_count": null,
   "id": "14b93129",
   "metadata": {},
   "outputs": [],
   "source": [
    "final_alloc = sourcecred_data[['name', 'address', 'vested_amount']].copy()\n",
    "final_alloc = final_alloc.to_csv(sep=',', index=False, header=False)\n",
    "with open('sourcecred_allocation.csv', 'w') as f:\n",
    "    f.write(final_alloc)"
   ]
  }
 ],
 "metadata": {
  "celltoolbar": "Tags",
  "kernelspec": {
   "display_name": "Python 3 (ipykernel)",
   "language": "python",
   "name": "python3"
  },
  "language_info": {
   "codemirror_mode": {
    "name": "ipython",
    "version": 3
   },
   "file_extension": ".py",
   "mimetype": "text/x-python",
   "name": "python",
   "nbconvert_exporter": "python",
   "pygments_lexer": "ipython3",
   "version": "3.10.5"
  }
 },
 "nbformat": 4,
 "nbformat_minor": 5
}
