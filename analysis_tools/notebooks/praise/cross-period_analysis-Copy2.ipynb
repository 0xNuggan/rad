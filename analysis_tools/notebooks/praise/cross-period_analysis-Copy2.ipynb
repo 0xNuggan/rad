{
 "cells": [
  {
   "cell_type": "code",
   "execution_count": 1,
   "id": "5fe4a709",
   "metadata": {
    "tags": [
     "parameters"
    ]
   },
   "outputs": [],
   "source": [
    "input_files = {}\n",
    "#WARNING: When re-running the notebook for audit, change the injected path below to \"./output_praiseDist_test.ipynb\"\n",
    "#then go to \"Cell > Run all\" -- This only works for the notebook in \n",
    "#\"distribution_results/round ?/results/analysis_outputs/output_general_RAD_report.ipynb\""
   ]
  },
  {
   "cell_type": "code",
   "execution_count": 2,
   "id": "f5b95fea",
   "metadata": {},
   "outputs": [],
   "source": [
    "input_files[\"cross_period_root\"] = \"/home/dev/Documents/GitHub/tec-rewards/distribution_rounds/\"\n",
    "NUMBER_OF_WEEKS = 24"
   ]
  },
  {
   "cell_type": "code",
   "execution_count": 3,
   "id": "2546bfec",
   "metadata": {},
   "outputs": [],
   "source": [
    "\n",
    "import os\n",
    "import sys\n",
    "\n",
    "import pandas as pd \n",
    "import numpy as np \n",
    "from collections import OrderedDict\n",
    "from natsort import natsorted\n",
    "from datetime import datetime, timedelta\n",
    "\n",
    "#from ..analysis_tools.module_libraries import general_tool_module as tools\n",
    "#from ..analysis_tools.module_libraries import praise_tool_module as praise_tools\n",
    "\n",
    "\n",
    "import holoviews as hv\n",
    "from holoviews import opts\n",
    "import plotly.graph_objects as go\n",
    "import plotly.express as px\n",
    "import matplotlib.pyplot as plt\n",
    "\n",
    "import base64\n",
    "from IPython.display import HTML\n",
    "\n",
    "import scrapbook as sb"
   ]
  },
  {
   "cell_type": "code",
   "execution_count": 4,
   "id": "d8bc18fc",
   "metadata": {},
   "outputs": [],
   "source": [
    "def split_into_weeks(data, num_weeks):\n",
    "    data = data.sort_values(by='DATE', ascending = False).reset_index()\n",
    "    data[\"DATE\"] = pd.to_datetime(data[\"DATE\"])\n",
    "    \n",
    "    last_date = pd.to_datetime(data.at[0, \"DATE\"])\n",
    "    step_size = 2\n",
    "    \n",
    "    roundname_list = []\n",
    "\n",
    "    allrounds_df = {}\n",
    "    for week in range(0, num_weeks, step_size):\n",
    "        week_id = \"Week \" + str(week+1)\n",
    "        roundname_list.append(week_id)\n",
    "        allrounds_df[week_id]= []\n",
    "        end_date = last_date - timedelta(weeks=(week))\n",
    "        start_date = last_date - timedelta(weeks=(week+step_size))\n",
    "        #allrounds_df[week_id] = data.drop(data[(data[\"DATE\"] > start_date)])\n",
    "        #allrounds_df[week_id] = allrounds_df[week_id].copy().drop(data[(data[\"DATE\"] < end_date)])\n",
    "        \n",
    "        allrounds_df[week_id] =  data.loc[(data['DATE'] >= start_date) & (data['DATE'] < end_date)]\n",
    "        #for index, row in data.iterrows():\n",
    "        #    if pd.to_datetime(row[\"DATE\"]) > (last_date - timedelta(weeks=week)) :\n",
    "        #       allrounds_df[week_id].append(row)\n",
    "        #        data.drop([index])\n",
    "                \n",
    "    return allrounds_df, roundname_list\n",
    "    "
   ]
  },
  {
   "cell_type": "code",
   "execution_count": 9,
   "id": "4c838ec1",
   "metadata": {},
   "outputs": [],
   "source": [
    "datadir = input_files[\"cross_period_root\"]\n",
    "foldername_list = natsorted(os.listdir(datadir))\n",
    "\n",
    "allrounds_df = []\n",
    "allrounds_finaldist = []\n",
    "\n",
    "rounds = 0\n",
    "for round_name in foldername_list:\n",
    "    if not os.path.isdir(f'{datadir}/{round_name}'):\n",
    "        foldername_list.remove('round_name')\n",
    "        continue\n",
    "    rounds+=1\n",
    "    round_df = pd.read_csv(f'{datadir}/{round_name}/distribution_results/raw_csv_exports/praise_outliers.csv')\n",
    "    dist_df = pd.read_csv(f'{datadir}/{round_name}/distribution_results/raw_csv_exports/final_praise_token_allocation.csv')\n",
    "\n",
    "    \n",
    "    for index, row in round_df.iterrows():\n",
    "        #print(row)\n",
    "        allrounds_df.append(row)\n",
    "    for index, row in dist_df.iterrows():\n",
    "        allrounds_finaldist.append(row)\n",
    "        \n",
    "    \n",
    "allrounds_df = pd.DataFrame(allrounds_df)"
   ]
  },
  {
   "cell_type": "code",
   "execution_count": null,
   "id": "93f32361",
   "metadata": {},
   "outputs": [],
   "source": []
  },
  {
   "cell_type": "code",
   "execution_count": 10,
   "id": "7cf13e5b",
   "metadata": {},
   "outputs": [
    {
     "ename": "AttributeError",
     "evalue": "'list' object has no attribute 'sort_values'",
     "output_type": "error",
     "traceback": [
      "\u001b[0;31m---------------------------------------------------------------------------\u001b[0m",
      "\u001b[0;31mAttributeError\u001b[0m                            Traceback (most recent call last)",
      "Input \u001b[0;32mIn [10]\u001b[0m, in \u001b[0;36m<cell line: 8>\u001b[0;34m()\u001b[0m\n\u001b[1;32m      6\u001b[0m allrounds_df\u001b[38;5;241m.\u001b[39mdrop(\u001b[38;5;124m\"\u001b[39m\u001b[38;5;124mindex\u001b[39m\u001b[38;5;124m\"\u001b[39m, axis \u001b[38;5;241m=\u001b[39m\u001b[38;5;241m1\u001b[39m,  inplace\u001b[38;5;241m=\u001b[39m\u001b[38;5;28;01mTrue\u001b[39;00m)\n\u001b[1;32m      7\u001b[0m week_df, roundname_list \u001b[38;5;241m=\u001b[39m split_into_weeks(allrounds_df, NUMBER_OF_WEEKS)\n\u001b[0;32m----> 8\u001b[0m finaldist_weekly, roundname_list \u001b[38;5;241m=\u001b[39m \u001b[43msplit_into_weeks\u001b[49m\u001b[43m(\u001b[49m\u001b[43mallrounds_finaldist\u001b[49m\u001b[43m,\u001b[49m\u001b[43m \u001b[49m\u001b[43mNUMBER_OF_WEEKS\u001b[49m\u001b[43m)\u001b[49m\n\u001b[1;32m      9\u001b[0m allrounds_df \u001b[38;5;241m=\u001b[39m week_df\n\u001b[1;32m     10\u001b[0m allrounds_finaldist \u001b[38;5;241m=\u001b[39m finaldist_weekly\n",
      "Input \u001b[0;32mIn [4]\u001b[0m, in \u001b[0;36msplit_into_weeks\u001b[0;34m(data, num_weeks)\u001b[0m\n\u001b[1;32m      1\u001b[0m \u001b[38;5;28;01mdef\u001b[39;00m \u001b[38;5;21msplit_into_weeks\u001b[39m(data, num_weeks):\n\u001b[0;32m----> 2\u001b[0m     data \u001b[38;5;241m=\u001b[39m \u001b[43mdata\u001b[49m\u001b[38;5;241;43m.\u001b[39;49m\u001b[43msort_values\u001b[49m(by\u001b[38;5;241m=\u001b[39m\u001b[38;5;124m'\u001b[39m\u001b[38;5;124mDATE\u001b[39m\u001b[38;5;124m'\u001b[39m, ascending \u001b[38;5;241m=\u001b[39m \u001b[38;5;28;01mFalse\u001b[39;00m)\u001b[38;5;241m.\u001b[39mreset_index()\n\u001b[1;32m      3\u001b[0m     data[\u001b[38;5;124m\"\u001b[39m\u001b[38;5;124mDATE\u001b[39m\u001b[38;5;124m\"\u001b[39m] \u001b[38;5;241m=\u001b[39m pd\u001b[38;5;241m.\u001b[39mto_datetime(data[\u001b[38;5;124m\"\u001b[39m\u001b[38;5;124mDATE\u001b[39m\u001b[38;5;124m\"\u001b[39m])\n\u001b[1;32m      5\u001b[0m     last_date \u001b[38;5;241m=\u001b[39m pd\u001b[38;5;241m.\u001b[39mto_datetime(data\u001b[38;5;241m.\u001b[39mat[\u001b[38;5;241m0\u001b[39m, \u001b[38;5;124m\"\u001b[39m\u001b[38;5;124mDATE\u001b[39m\u001b[38;5;124m\"\u001b[39m])\n",
      "\u001b[0;31mAttributeError\u001b[0m: 'list' object has no attribute 'sort_values'"
     ]
    }
   ],
   "source": [
    "#allrounds_df['round-4'].keys()\n",
    "#allrounds_df = allrounds_df[sorted(allrounds_df.columns)]\n",
    "#allrounds_df = OrderedDict(sorted(allrounds_df.items()))\n",
    "#allrounds_df.keys()\n",
    "\n",
    "allrounds_df.drop(\"index\", axis =1,  inplace=True)\n",
    "week_df, roundname_list = split_into_weeks(allrounds_df, NUMBER_OF_WEEKS)\n",
    "finaldist_weekly, roundname_list = split_into_weeks(allrounds_finaldist, NUMBER_OF_WEEKS)\n",
    "allrounds_df = week_df\n",
    "allrounds_finaldist = finaldist_weekly"
   ]
  },
  {
   "cell_type": "code",
   "execution_count": null,
   "id": "2863fb3a",
   "metadata": {},
   "outputs": [],
   "source": [
    "#allrounds_finaldist = {}\n",
    "#for round_name in roundname_list:\n",
    "#    allrounds_finaldist[round_name] = pd.read_csv(f'{datadir}/{round_name}/distribution_results/raw_csv_exports/final_praise_token_allocation.csv')"
   ]
  },
  {
   "cell_type": "code",
   "execution_count": null,
   "id": "0ceec80e",
   "metadata": {},
   "outputs": [],
   "source": [
    "#allrounds_finaldist['round-1'].columns"
   ]
  },
  {
   "cell_type": "markdown",
   "id": "60167805",
   "metadata": {},
   "source": [
    "# General statistics"
   ]
  },
  {
   "cell_type": "code",
   "execution_count": null,
   "id": "d0896c63",
   "metadata": {},
   "outputs": [],
   "source": [
    "round_stats = pd.DataFrame(index=allrounds_df.keys())"
   ]
  },
  {
   "cell_type": "code",
   "execution_count": null,
   "id": "308a3681",
   "metadata": {},
   "outputs": [],
   "source": [
    "round_stats['round_start_time'] =  [str(allrounds_df[round_name]['DATE'].min())[:10] for round_name in roundname_list]\n",
    "round_stats['round_end_time'] =  [str(allrounds_df[round_name]['DATE'].max())[:10] for round_name in roundname_list]"
   ]
  },
  {
   "cell_type": "code",
   "execution_count": null,
   "id": "d18bc3d7",
   "metadata": {},
   "outputs": [],
   "source": [
    "round_stats"
   ]
  },
  {
   "cell_type": "markdown",
   "id": "1be6baf2",
   "metadata": {},
   "source": [
    "## Praise involvement"
   ]
  },
  {
   "cell_type": "markdown",
   "id": "822d322d",
   "metadata": {},
   "source": [
    "### How many praise? "
   ]
  },
  {
   "cell_type": "code",
   "execution_count": null,
   "id": "3e24a823",
   "metadata": {},
   "outputs": [],
   "source": [
    "round_stats['total_praise'] = [len(allrounds_df[round_name]) for round_name in roundname_list]\n",
    "px.line(round_stats,x='round_start_time',y='total_praise',markers=True)\n",
    "#plt.xlabel(round_stats['round_start_time'].values)"
   ]
  },
  {
   "cell_type": "markdown",
   "id": "4158f7e7",
   "metadata": {},
   "source": [
    "### How many people give praise?"
   ]
  },
  {
   "cell_type": "code",
   "execution_count": null,
   "id": "cca3bba8",
   "metadata": {},
   "outputs": [],
   "source": [
    "round_stats['total_praise_giver'] = [len(np.unique(allrounds_df[round_name]['FROM USER ACCOUNT'])) for round_name in roundname_list]\n",
    "px.line(round_stats,x='round_start_time',y='total_praise_giver',markers=True)\n"
   ]
  },
  {
   "cell_type": "markdown",
   "id": "3eef7b85",
   "metadata": {},
   "source": [
    "### How many people receiving praise?"
   ]
  },
  {
   "cell_type": "code",
   "execution_count": null,
   "id": "06c0a647",
   "metadata": {},
   "outputs": [],
   "source": [
    "round_stats['total_praise_receiver'] = [len(np.unique(allrounds_df[round_name]['TO USER ACCOUNT'])) for round_name in roundname_list]\n",
    "px.line(round_stats,x='round_start_time',y=['total_praise_receiver','total_praise_giver'],markers=True,title='total praise giver and receiver')\n"
   ]
  },
  {
   "cell_type": "markdown",
   "id": "fc4ca3a0",
   "metadata": {},
   "source": [
    "## Quantifier involvement"
   ]
  },
  {
   "cell_type": "code",
   "execution_count": null,
   "id": "79e4be24",
   "metadata": {},
   "outputs": [],
   "source": [
    "round_stats['total_quantifier'] = [len(np.unique(allrounds_df[round_name].filter(like='QUANTIFIER'))) for round_name in roundname_list]\n",
    "px.line(round_stats,x='round_start_time',y=['total_quantifier'],markers=True,title='total quantifiers')"
   ]
  },
  {
   "cell_type": "markdown",
   "id": "0bd05bfc",
   "metadata": {},
   "source": [
    "# System health evaluation"
   ]
  },
  {
   "cell_type": "markdown",
   "id": "526f8477",
   "metadata": {},
   "source": [
    "\n",
    "## new TEC members"
   ]
  },
  {
   "cell_type": "code",
   "execution_count": null,
   "id": "ef93ad3b",
   "metadata": {
    "scrolled": true
   },
   "outputs": [],
   "source": [
    "round_stats['round_user_list'] = [set(np.unique(allrounds_df[round_name].filter(like='ACCOUNT')))\n",
    "            .union(set(np.unique(allrounds_df[round_name].filter(like='QUANTIFIER')))) for round_name in roundname_list]"
   ]
  },
  {
   "cell_type": "code",
   "execution_count": null,
   "id": "d52ab3fc",
   "metadata": {},
   "outputs": [],
   "source": [
    "round_stats['round_user_new'] = np.nan\n",
    "round_stats['round_user_new'].iloc[1:] = [len(round_stats.loc[roundname_list[kr+1],'round_user_list'] - \n",
    "                                         round_stats.loc[roundname_list[kr],'round_user_list']) for kr in np.arange(len(roundname_list)-1)]\n",
    "\n",
    "round_stats['round_user_left'] = np.nan\n",
    "round_stats['round_user_left'].iloc[1:] = [len(round_stats.loc[roundname_list[kr],'round_user_list'] - \n",
    "                                         round_stats.loc[roundname_list[kr+1],'round_user_list']) for kr in np.arange(len(roundname_list)-1)]"
   ]
  },
  {
   "cell_type": "code",
   "execution_count": null,
   "id": "e0b2ea9b",
   "metadata": {},
   "outputs": [],
   "source": [
    "#round_stats['round_user_new'] = np.nan\n",
    "#round_stats['round_user_new'].iloc[1:] = [len(round_stats.loc['round-'+str(kr+2),'round_user_list'] - \n",
    "#                                         round_stats.loc['round-'+str(kr+1),'round_user_list']) for kr in np.arange(max(rounds)-1)]\n",
    "#round_stats['round_user_left'] = np.nan\n",
    "#round_stats['round_user_left'].iloc[1:] = [len(round_stats.loc['round-'+str(kr+1),'round_user_list'] - \n",
    "#                                         round_stats.loc['round-'+str(kr+2),'round_user_list']) for kr in np.arange(max(rounds)-1)]"
   ]
  },
  {
   "cell_type": "code",
   "execution_count": null,
   "id": "d713bd21",
   "metadata": {},
   "outputs": [],
   "source": [
    "round_stats['round_net_user_diff']=round_stats['round_user_new']-round_stats['round_user_left']"
   ]
  },
  {
   "cell_type": "code",
   "execution_count": null,
   "id": "9a688024",
   "metadata": {},
   "outputs": [],
   "source": [
    "px.line(round_stats,x='round_start_time',y=['round_user_new','round_user_left','round_net_user_diff'])"
   ]
  },
  {
   "cell_type": "markdown",
   "id": "bc6e2a29",
   "metadata": {},
   "source": [
    "## distribution equality"
   ]
  },
  {
   "cell_type": "markdown",
   "id": "699f3461",
   "metadata": {},
   "source": [
    "### Nakamoto Coefficient\n",
    "\n",
    "The Nakamato Coefficient is defined as the smallest number of accounts who control at least 50% of the resource. Although its significance relates to the prospect of a 51% attack on a network, which may not be relevant in our context, we can still use it as an intuitive measure of how many individuals received the majority of a resource.\n",
    "\n",
    "Bigger coefficient means more equal (i.e. needs more people to pass 50%), smaller means more concentrated power. The number should always be an integer"
   ]
  },
  {
   "cell_type": "code",
   "execution_count": null,
   "id": "50215949",
   "metadata": {},
   "outputs": [],
   "source": [
    "def nakamoto_coeff(x, key):\n",
    "    sorted_x = x.sort_values(by=key, ascending=False)\n",
    "    tot_sum = np.array(sorted_x[key].cumsum())\n",
    "    try:\n",
    "        winner = np.array([k for k in range(len(tot_sum))\n",
    "                          if tot_sum[k] > 0.5]).min() + 1\n",
    "    except:\n",
    "        winner = -1\n",
    "    return winner\n",
    "def nakamoto_coeff_ratio(x, key):\n",
    "    winner = nakamoto_coeff(x, key)\n",
    "    ratio = winner / len(x)\n",
    "    return ratio"
   ]
  },
  {
   "cell_type": "code",
   "execution_count": null,
   "id": "f0a6029b",
   "metadata": {},
   "outputs": [],
   "source": [
    "for round_name in roundname_list:\n",
    "    totalreceive = allrounds_finaldist[round_name]['TOTAL TO RECEIVE']\n",
    "    allrounds_finaldist[round_name]['PERCENTAGE'] =  totalreceive/ sum(totalreceive)"
   ]
  },
  {
   "cell_type": "code",
   "execution_count": null,
   "id": "7a754f44",
   "metadata": {},
   "outputs": [],
   "source": [
    "round_stats['nakamoto']  = [nakamoto_coeff(allrounds_finaldist[round_name],'PERCENTAGE') for round_name in roundname_list]\n",
    "round_stats['nakamoto_ratio']= [nakamoto_coeff_ratio(allrounds_finaldist[round_name],'PERCENTAGE') for round_name in roundname_list]\n",
    "px.line(round_stats,x='round_start_time',y='nakamoto',markers=True,title='minimum number of people to receive 50% of total rewards')\n"
   ]
  },
  {
   "cell_type": "code",
   "execution_count": null,
   "id": "b3c5e204",
   "metadata": {},
   "outputs": [],
   "source": [
    "px.line(round_stats,x='round_start_time',y='nakamoto_ratio',markers=True,title='ratio of people to receive 50% of total rewards')\n"
   ]
  },
  {
   "cell_type": "markdown",
   "id": "78c1e33b",
   "metadata": {},
   "source": [
    "## quantification agreement\n",
    "\n",
    "TODO: measure how well quantifiers agree with each other. metrics like ratio of agreement on duplication and dismissal. overall average spread. etc."
   ]
  },
  {
   "cell_type": "code",
   "execution_count": null,
   "id": "56822e89",
   "metadata": {},
   "outputs": [],
   "source": []
  },
  {
   "cell_type": "code",
   "execution_count": null,
   "id": "a89e5921",
   "metadata": {},
   "outputs": [],
   "source": []
  }
 ],
 "metadata": {
  "celltoolbar": "Tags",
  "hide_input": false,
  "kernelspec": {
   "display_name": "Python 3 (ipykernel)",
   "language": "python",
   "name": "python3"
  },
  "language_info": {
   "codemirror_mode": {
    "name": "ipython",
    "version": 3
   },
   "file_extension": ".py",
   "mimetype": "text/x-python",
   "name": "python",
   "nbconvert_exporter": "python",
   "pygments_lexer": "ipython3",
   "version": "3.9.7"
  },
  "toc": {
   "base_numbering": 1,
   "nav_menu": {},
   "number_sections": true,
   "sideBar": true,
   "skip_h1_title": false,
   "title_cell": "Table of Contents",
   "title_sidebar": "Contents",
   "toc_cell": false,
   "toc_position": {},
   "toc_section_display": true,
   "toc_window_display": true
  }
 },
 "nbformat": 4,
 "nbformat_minor": 5
}
